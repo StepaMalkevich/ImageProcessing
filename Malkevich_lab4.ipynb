{
 "cells": [
  {
   "cell_type": "markdown",
   "metadata": {},
   "source": [
    "# Домашнее задание №4"
   ]
  },
  {
   "cell_type": "markdown",
   "metadata": {
    "collapsed": false
   },
   "source": [
    "**1. (20 баллов)**\n",
    "\n",
    "Для папки Corel необходимо для каждого изображения, предварительно переведенного в HSV, посчитать гистограмму \n",
    "(шаг квантования выберите самостоятельно). \n",
    "После этого вычислить попарные расстояния между гистограммами с помощью метрик L2 и Хи-квадрат.\n",
    "Отсортировать полученные пары и записать имена и расстояния в файл (для каждой метрики свой, \n",
    "т.е. в конечном итоге будет два файла) в формате:\n",
    "$$\n",
    "img\\_name1 \\hphantom aimg\\_name23 \\hphantom a 66.3$$\n",
    "$$\n",
    "img\\_name5 \\hphantom aimg\\_name66 \\hphantom a 77.1,\n",
    "$$\n",
    "где в каждой строчке записаны два имени файла и расстояние между изображениями, скрывающимися за этими именами.\n",
    "Обратите внимание, что тут происходит некоторое определение расстояния между изображениями, \n",
    "а значит результат не должен быть совсем уж хаотичным, там есть группы похожих друг на друга изображений."
   ]
  },
  {
   "cell_type": "code",
   "execution_count": 1,
   "metadata": {
    "collapsed": true
   },
   "outputs": [],
   "source": [
    "import numpy as np\n",
    "import cv2\n",
    "import matplotlib.pylab as plt\n",
    "%matplotlib inline\n",
    "\n",
    "def show(img):\n",
    "    ax = plt.axes([0,0,1,1], frameon=False)\n",
    "    ax.set_axis_off()\n",
    "    plt.imshow(cv2.cvtColor(img, cv2.COLOR_BGR2RGB))\n",
    "    \n",
    "def show_imgs(imgs):\n",
    "    if (len(imgs) > 15):\n",
    "        columns_cnt = 15\n",
    "    else:\n",
    "        columns_cnt = len(imgs)\n",
    "    rows_cnt = len(imgs) // columns_cnt + 1   \n",
    "        \n",
    "    fig = plt.figure(figsize=(20,20))\n",
    "    for count, img in enumerate(imgs):\n",
    "        a = fig.add_subplot(rows_cnt, columns_cnt, count + 1)\n",
    "        a.set_axis_off()\n",
    "        plt.imshow(cv2.cvtColor(img, cv2.COLOR_BGR2RGB))     "
   ]
  },
  {
   "cell_type": "code",
   "execution_count": 2,
   "metadata": {
    "collapsed": false
   },
   "outputs": [],
   "source": [
    "import glob\n",
    "list_of_names = glob.glob(\"datasets/Corel/*\")\n",
    "\n",
    "dic_of_img = {}\n",
    "for name in list_of_names:\n",
    "    img = cv2.imread(name)\n",
    "    p = name.split('/')\n",
    "    hsv_img = cv2.cvtColor(img, cv2.COLOR_BGR2HSV)\n",
    "    dic_of_img[p[2]] = hsv_img"
   ]
  },
  {
   "cell_type": "code",
   "execution_count": 3,
   "metadata": {
    "collapsed": false
   },
   "outputs": [],
   "source": [
    "def chi2_distance(histA, histB, eps = 1e-10):\n",
    "    d = 0.5 * np.sum([((a - b) ** 2) / (a + b + eps) for (a, b) in zip(histA, histB)])\n",
    "    \n",
    "    return d\n",
    "\n",
    "def key_distance(tuple_):\n",
    "    _, _, d = tuple_\n",
    "    \n",
    "    return d\n",
    "\n",
    "def show_by_names(name1, name2):\n",
    "    img1 = dic_of_img[name1]\n",
    "    img2 = dic_of_img[name2]\n",
    "    \n",
    "    show_imgs([img1, img2])"
   ]
  },
  {
   "cell_type": "code",
   "execution_count": 4,
   "metadata": {
    "collapsed": false
   },
   "outputs": [],
   "source": [
    "dic_histograms = {}\n",
    "for name in dic_of_img.keys():\n",
    "    hsv_img = dic_of_img[name]\n",
    "    hist = cv2.calcHist([hsv_img], [0, 1, 2], None, [8, 8, 8], [0, 256, 0, 256, 0, 256])\n",
    "    dst = np.zeros_like(hsv_img)\n",
    "    dst = cv2.normalize(hist, dst).flatten()\n",
    "    dic_histograms[name] = dst"
   ]
  },
  {
   "cell_type": "code",
   "execution_count": 5,
   "metadata": {
    "collapsed": false
   },
   "outputs": [],
   "source": [
    "from scipy.spatial.distance import euclidean\n",
    "import itertools\n",
    "\n",
    "chi2_result = []\n",
    "l2_result = []\n",
    "all_names = dic_histograms.keys()\n",
    "all_pairs = list(itertools.combinations(all_names, 2))\n",
    "for pairs in all_pairs:\n",
    "    name1, name2 = pairs\n",
    "    chi2_d = chi2_distance(dic_histograms[name1], dic_histograms[name2])\n",
    "    l2_d = euclidean(dic_histograms[name1], dic_histograms[name2])\n",
    "    chi2_result.append((name1, name2, chi2_d))\n",
    "    l2_result.append((name1, name2, l2_d))"
   ]
  },
  {
   "cell_type": "code",
   "execution_count": 6,
   "metadata": {
    "collapsed": true
   },
   "outputs": [],
   "source": [
    "chi2_result.sort(key=key_distance)\n",
    "l2_result.sort(key=key_distance)\n",
    "\n",
    "s = ''\n",
    "with open('Corel_Chi-squared.txt', 'w') as f:\n",
    "    for name1, name2, d in chi2_result:\n",
    "        s += name1 + \" \" + name2 + \" \" + str(d) + \"\\n\"\n",
    "    f.write(s)\n",
    "    \n",
    "s = ''\n",
    "with open('Corel_L2.txt', 'w') as f:\n",
    "    for name1, name2, d in l2_result:\n",
    "        s += name1 + \" \" + name2 + \" \" + str(d) + \"\\n\"\n",
    "    f.write(s)    "
   ]
  },
  {
   "cell_type": "markdown",
   "metadata": {
    "collapsed": true
   },
   "source": [
    "**2. (20 баллов)**\n",
    "Для папки leaves для каждого контура листа необходимо посчитать дескрипторы Фурье. После этого вычислить попарные расстояния между контурами (используйте метрику L2 для сравнения набора дескрипторов). Отсортировать полученные пары и записать имена в файл в формате, обозначенном в первом пункте."
   ]
  },
  {
   "cell_type": "code",
   "execution_count": 7,
   "metadata": {
    "collapsed": false
   },
   "outputs": [],
   "source": [
    "import glob\n",
    "list_of_names = glob.glob(\"datasets/Leaves/*\")\n",
    "\n",
    "dic_of_img = {}\n",
    "for name in list_of_names:\n",
    "    img = cv2.imread(name)\n",
    "    p = name.split('/')\n",
    "    dic_of_img[p[2]] = img"
   ]
  },
  {
   "cell_type": "code",
   "execution_count": 8,
   "metadata": {
    "collapsed": true
   },
   "outputs": [],
   "source": [
    "from scipy.spatial.distance import euclidean\n",
    "from scipy.spatial.distance import cosine\n",
    "def findDescriptor_with_dist(img, angle):\n",
    "    #найдем контур изображения\n",
    "    imgray = cv2.cvtColor(img, cv2.COLOR_BGR2GRAY)\n",
    "    ret, thresh = cv2.threshold(imgray,127,255,0)\n",
    "    contour = []\n",
    "    _, contour, hierarchy = cv2.findContours(thresh,cv2.RETR_EXTERNAL,cv2.CHAIN_APPROX_NONE,contour)\n",
    "    \n",
    "    #найдем центр изображения\n",
    "    list_of_points = contour[0]\n",
    "    M = cv2.moments(list_of_points)\n",
    "    cx = int(M['m10'] / M['m00'])\n",
    "    cy = int(M['m01'] / M['m00'])\n",
    "    center_of_mass = [cx, cy]\n",
    "    \n",
    "    list_of_distance = []\n",
    "    \n",
    "    #зададим угол\n",
    "    final_cos = np.cos((2 * np.pi / 360) * angle)\n",
    "    \n",
    "    #для фурье будем считать расстояние от центра до точки на контуре, прыгая по заданному углу\n",
    "    i = 0\n",
    "    N = len(list_of_points)\n",
    "    point = list_of_points[i]\n",
    "    tx, ty = point[0]\n",
    "    vec_old = [tx - cx, ty - cy]\n",
    "    i = 1\n",
    "    while(i < N):\n",
    "        point = list_of_points[i]\n",
    "        tx, ty = point[0]\n",
    "        vec_new = [tx - cx, ty - cy]\n",
    "        #считаем косинус между двумя векторами\n",
    "        cos_sim = 1 - cosine(vec_old, vec_new)\n",
    "        if (cos_sim < final_cos):\n",
    "            list_of_distance.append(euclidean([tx, ty], center_of_mass))\n",
    "            vec_old = vec_new\n",
    "        i += 1\n",
    "    \n",
    "    #раскладываем в фурье список из расстояний\n",
    "    fourier_result = np.fft.fft(list_of_distance)\n",
    "\n",
    "    u_norm = np.absolute(fourier_result)\n",
    "        \n",
    "    arr = u_norm / u_norm[0]\n",
    "\n",
    "    #дополняем до угла в 360 градусов там, где это необходимо\n",
    "    if (len(arr) < int(360 / angle)):\n",
    "        arr = np.pad(arr, (0, int(360/ angle) - len(arr)), mode='constant', constant_values=0)\n",
    "    \n",
    "    return arr[1:]"
   ]
  },
  {
   "cell_type": "code",
   "execution_count": 9,
   "metadata": {
    "collapsed": false
   },
   "outputs": [],
   "source": [
    "dic_descriptors = {}\n",
    "for name in dic_of_img.keys():\n",
    "    img = dic_of_img[name]\n",
    "    d = findDescriptor_with_dist(img, angle = 1)\n",
    "    dic_descriptors[name] = d"
   ]
  },
  {
   "cell_type": "code",
   "execution_count": 10,
   "metadata": {
    "collapsed": false
   },
   "outputs": [],
   "source": [
    "from scipy.spatial.distance import euclidean\n",
    "import itertools\n",
    "\n",
    "l2_result = []\n",
    "all_names = dic_descriptors.keys()\n",
    "all_pairs = list(itertools.combinations(all_names, 2))\n",
    "for pairs in all_pairs:\n",
    "    name1, name2 = pairs\n",
    "    l2_d = euclidean(dic_descriptors[name1], dic_descriptors[name2])\n",
    "    l2_result.append((name1, name2, l2_d))\n",
    "    \n",
    "l2_result.sort(key=key_distance)    "
   ]
  },
  {
   "cell_type": "code",
   "execution_count": 11,
   "metadata": {
    "collapsed": true
   },
   "outputs": [],
   "source": [
    "s = ''\n",
    "with open('Leaves_L2.txt', 'w') as f:\n",
    "    for name1, name2, d in l2_result:\n",
    "        s += name1 + \" \" + name2 + \" \" + str(d) + \"\\n\"\n",
    "    f.write(s)   "
   ]
  },
  {
   "cell_type": "markdown",
   "metadata": {},
   "source": [
    "Реализуте функцию, которая выводит на экран n самых лучших пар. "
   ]
  },
  {
   "cell_type": "code",
   "execution_count": 18,
   "metadata": {
    "collapsed": false
   },
   "outputs": [],
   "source": [
    "def show_nearest(n, filename, leaves = True):\n",
    "    if (leaves):\n",
    "        path = 'datasets/leaves/'\n",
    "    else:\n",
    "        path = 'datasets/Corel/'\n",
    "    with open(filename) as f:\n",
    "        number = 0\n",
    "        for i in np.arange(n):\n",
    "            content = f.readline()\n",
    "            name1, name2, _ = content.split(' ')\n",
    "            img1 = cv2.imread(path + name1)\n",
    "            img2 = cv2.imread(path + name2)\n",
    "            \n",
    "            fig = plt.figure(figsize=(10, 20))\n",
    "\n",
    "            number += 1\n",
    "            a = fig.add_subplot(n, 2,  number)\n",
    "            a.set_axis_off()\n",
    "            plt.imshow(cv2.cvtColor(img1, cv2.COLOR_BGR2RGB))\n",
    "                \n",
    "            number += 1    \n",
    "            a = fig.add_subplot(n, 2, number)\n",
    "            a.set_axis_off()\n",
    "            plt.imshow(cv2.cvtColor(img2, cv2.COLOR_BGR2RGB))      "
   ]
  },
  {
   "cell_type": "code",
   "execution_count": 19,
   "metadata": {
    "collapsed": false
   },
   "outputs": [
    {
     "data": {
      "image/png": "[encoded data removed]",
      "text/plain": [
       "<matplotlib.figure.Figure at 0x1293fd5c0>"
      ]
     },
     "metadata": {},
     "output_type": "display_data"
    },
    {
     "data": {
      "image/png": "[encoded data removed]",
      "text/plain": [
       "<matplotlib.figure.Figure at 0x1293fd978>"
      ]
     },
     "metadata": {},
     "output_type": "display_data"
    },
    {
     "data": {
      "image/png": "[encoded data removed]",
      "text/plain": [
       "<matplotlib.figure.Figure at 0x129854ba8>"
      ]
     },
     "metadata": {},
     "output_type": "display_data"
    },
    {
     "data": {
      "image/png": "[encoded data removed]",
      "text/plain": [
       "<matplotlib.figure.Figure at 0x1294135c0>"
      ]
     },
     "metadata": {},
     "output_type": "display_data"
    },
    {
     "data": {
      "image/png": "[encoded data removed]",
      "text/plain": [
       "<matplotlib.figure.Figure at 0x1294b24a8>"
      ]
     },
     "metadata": {},
     "output_type": "display_data"
    },
    {
     "data": {
      "image/png": "[encoded data removed]",
      "text/plain": [
       "<matplotlib.figure.Figure at 0x108f2bcc0>"
      ]
     },
     "metadata": {},
     "output_type": "display_data"
    },
    {
     "data": {
      "image/png": "[encoded data removed]",
      "text/plain": [
       "<matplotlib.figure.Figure at 0x129504908>"
      ]
     },
     "metadata": {},
     "output_type": "display_data"
    },
    {
     "data": {
      "image/png": "[encoded data removed]",
      "text/plain": [
       "<matplotlib.figure.Figure at 0x1295835c0>"
      ]
     },
     "metadata": {},
     "output_type": "display_data"
    },
    {
     "data": {
      "image/png": "[encoded data removed]",
      "text/plain": [
       "<matplotlib.figure.Figure at 0x10d400160>"
      ]
     },
     "metadata": {},
     "output_type": "display_data"
    },
    {
     "data": {
      "image/png": "[encoded data removed]",
      "text/plain": [
       "<matplotlib.figure.Figure at 0x11788b710>"
      ]
     },
     "metadata": {},
     "output_type": "display_data"
    }
   ],
   "source": [
    "show_nearest(10, 'Leaves_L2.txt')"
   ]
  },
  {
   "cell_type": "code",
   "execution_count": null,
   "metadata": {
    "collapsed": true
   },
   "outputs": [],
   "source": []
  }
 ],
 "metadata": {
  "anaconda-cloud": {},
  "kernelspec": {
   "display_name": "Python 3",
   "language": "python",
   "name": "python3"
  },
  "language_info": {
   "codemirror_mode": {
    "name": "ipython",
    "version": 3
   },
   "file_extension": ".py",
   "mimetype": "text/x-python",
   "name": "python",
   "nbconvert_exporter": "python",
   "pygments_lexer": "ipython3",
   "version": "3.6.0"
  }
 },
 "nbformat": 4,
 "nbformat_minor": 1
}
